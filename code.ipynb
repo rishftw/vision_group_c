{
  "nbformat": 4,
  "nbformat_minor": 0,
  "metadata": {
    "accelerator": "GPU",
    "colab": {
      "name": "code.ipynb",
      "provenance": [],
      "collapsed_sections": [],
      "toc_visible": true
    },
    "kernelspec": {
      "display_name": "Python 3",
      "language": "python",
      "name": "python3"
    },
    "language_info": {
      "codemirror_mode": {
        "name": "ipython",
        "version": 3
      },
      "file_extension": ".py",
      "mimetype": "text/x-python",
      "name": "python",
      "nbconvert_exporter": "python",
      "pygments_lexer": "ipython3",
      "version": "3.8.3"
    }
  },
  "cells": [
    {
      "cell_type": "code",
      "metadata": {
        "id": "l269CuCw_h3J",
        "colab_type": "code",
        "colab": {
          "base_uri": "https://localhost:8080/",
          "height": 34
        },
        "outputId": "aa7f4f85-ce5a-43c8-99cf-495443ff9298"
      },
      "source": [
        "%cd /content/drive/My\\ Drive/Colab\\ Notebooks"
      ],
      "execution_count": 18,
      "outputs": [
        {
          "output_type": "stream",
          "text": [
            "/content/drive/My Drive/Colab Notebooks\n"
          ],
          "name": "stdout"
        }
      ]
    },
    {
      "cell_type": "code",
      "metadata": {
        "colab_type": "code",
        "id": "uWhdm8qGjDGh",
        "colab": {}
      },
      "source": [
        "## COMP9517 Computer Vision Project 20T2\n",
        "# code: Main program for the project\n",
        "#\n",
        "# Group C:\n",
        "# Connor Baginski (z5207788)\n",
        "# Bhumika Singhal (z5234799)\n",
        "# Rishav Guha (z5294757)\n",
        "# Amel Johny (z5294308)\n",
        "\n",
        "import matplotlib.pyplot as plt\n",
        "from PIL import Image\n",
        "import numpy as np\n",
        "import cv2\n",
        "import os\n",
        "import imutils\n",
        "from processing import *\n",
        "from network import Network\n",
        "\n",
        "import torch\n",
        "from torch import nn, optim\n",
        "import torch.nn.functional as F\n",
        "from torch.utils.data import Dataset, DataLoader\n",
        "\n",
        "from skimage.morphology import watershed, disk\n",
        "from skimage.feature import peak_local_max\n",
        "from skimage.filters import meijering\n",
        "\n",
        "from scipy import ndimage as ndi\n",
        "\n",
        "\n",
        "def fi_list(path):\n",
        "    \"\"\"\n",
        "    Return a sorted list of filenames in a given path\n",
        "    \"\"\"\n",
        "    return sorted([os.path.join(path, f) for f in os.listdir(path)])\n",
        "\n",
        "def plot_two_images(imgL, imgR, titleL, titleR):\n",
        "    f = plt.figure()\n",
        "    f.add_subplot(1,2, 1)\n",
        "    plt.imshow(imgL, cmap='gray')\n",
        "    plt.title(titleL)\n",
        "    f.add_subplot(1,2, 2)\n",
        "    plt.imshow(imgR, cmap='gray')\n",
        "    plt.title(titleR)\n",
        "    plt.show(block=True)\n",
        "\n",
        "def custom_thresh(image):\n",
        "    for r in range(image.shape[0]):\n",
        "        for c in range(image.shape[1]):\n",
        "            if image[r,c] > 0.05:\n",
        "                image[r,c] = 255\n",
        "            else:\n",
        "                image[r,c] = 0\n",
        "\n",
        "    return image"
      ],
      "execution_count": null,
      "outputs": []
    },
    {
      "cell_type": "code",
      "metadata": {
        "colab_type": "code",
        "id": "Jgu3dqD1JyY-",
        "colab": {}
      },
      "source": [
        "def detect_DIC():\n",
        "    for filename in fi_list('DIC-C2DH-HeLa/Sequence 3'):\n",
        "        if not filename.endswith(\".tif\"):\n",
        "            continue\n",
        "        print(filename)\n",
        "        image = cv2.imread(filename, cv2.IMREAD_UNCHANGED)\n",
        "        # Preprocessing\n",
        "        image = equalize_clahe(image)\n",
        "        x = torch.tensor(np.array([image.astype(np.float32)]))\n",
        "        # Add a \"Batch\" dimension\n",
        "        x = x.unsqueeze(0)\n",
        "        \n",
        "        # Load CNN models\n",
        "        device = torch.device(\"cuda:0\" if torch.cuda.is_available() else \"cpu\")\n",
        "        net = Network()\n",
        "        # TODO: CHANGE TO BEST MODEL\n",
        "        net.load_state_dict(torch.load(\"CNN_m_v1_max_score_0.pth\", map_location=device))\n",
        "        \n",
        "        with torch.no_grad():\n",
        "            net.eval()\n",
        "\n",
        "            # Generate cell mask and markers from image           \n",
        "            output = net(x)\n",
        "            markers = (output[:,0] > 0.5).int()\n",
        "            cell_mask = (output[:,1] > 0.5).int()\n",
        "            \n",
        "            # Plot output images\n",
        "            plt.imshow(image, cmap='gray')\n",
        "            plt.title(\"Input\")\n",
        "            plt.show()\n",
        "            \n",
        "            plot_two_images(cell_mask, markers, \"Cell Mask\", \"Markers\")\n",
        "            \n",
        "            # Postprocessing\n",
        "            ws_labels = get_ws_from_markers(markers.numpy(), cell_mask.numpy())\n",
        "            bound_box = get_bound_box_from_ws(image, ws_labels)\n",
        "            pimg(ws_labels)\n",
        "\n",
        "            plt.imshow(bound_box, cmap='gray')\n",
        "            plt.title(\"Cells with bounding box.\")\n",
        "            plt.show()\n",
        "        \n",
        "    return"
      ],
      "execution_count": null,
      "outputs": []
    },
    {
      "cell_type": "code",
      "metadata": {
        "colab_type": "code",
        "id": "AHNueLHxJyZJ",
        "colab": {}
      },
      "source": [
        "def detect_Fluo():\n",
        "    for filename in fi_list('Fluo-N2DL-HeLa/Sequence 1'):\n",
        "        if not filename.endswith(\".tif\"):\n",
        "            continue\n",
        "        print(filename)\n",
        "        image = cv2.imread(filename, cv2.IMREAD_GRAYSCALE)\n",
        "        # Threshold at value of 129\n",
        "        thresh = cv2.threshold(image, 129, 255, cv2.THRESH_BINARY)[1]\n",
        "        distance = ndi.distance_transform_edt(thresh)\n",
        "        local_maxi = peak_local_max(distance, indices=False, footprint=np.ones((10, 10)),\n",
        "                                labels=thresh)\n",
        "        markers, _ = ndi.label(local_maxi)\n",
        "        ws_labels = watershed(-distance, markers, mask=thresh)\n",
        "        \n",
        "        #TODO: cite/recode following\n",
        "        # loop over the unique labels returned by the Watershed\n",
        "        # algorithm\n",
        "        for label in np.unique(ws_labels):\n",
        "            # if the label is zero, we are examining the 'background'\n",
        "            # so simply ignore it\n",
        "            if label == 0:\n",
        "                continue\n",
        "\n",
        "            # otherwise, allocate memory for the label region and draw\n",
        "            # it on the mask\n",
        "            mask = np.zeros(image.shape, dtype=\"uint8\")\n",
        "            mask[ws_labels == label] = 255\n",
        "\n",
        "            # detect contours in the mask and grab the largest one\n",
        "            cnts = cv2.findContours(mask.copy(), cv2.RETR_EXTERNAL,\n",
        "                cv2.CHAIN_APPROX_SIMPLE)\n",
        "            cnts = imutils.grab_contours(cnts)\n",
        "            c = max(cnts, key=cv2.contourArea)\n",
        "\n",
        "            # draw a rectangle enclosing the object\n",
        "            x,y,w,h = cv2.boundingRect(c)\n",
        "            cv2.rectangle(image,(x,y),(x+w,y+h),(0,255,0),2)\n",
        "            cv2.putText(image, \"#{}\".format(label), (int(x) - 10, int(y)),\n",
        "                cv2.FONT_HERSHEY_SIMPLEX, 0.6, (0, 0, 255), 2)\n",
        "        \n",
        "        plt.gray()\n",
        "        plt.imshow(thresh, cmap='gray')\n",
        "        plt.show()\n",
        "        plt.imshow(image)\n",
        "        plt.show()\n",
        "    return\n",
        "\n",
        "def detect_PhC():\n",
        "    for filename in fi_list('PhC-C2DL-PSC/Sequence 1'):\n",
        "        if not filename.endswith(\".tif\"):\n",
        "            continue\n",
        "        print(filename)\n",
        "        image = cv2.imread(filename, cv2.IMREAD_GRAYSCALE)\n",
        "        thresh = cv2.threshold(image, 162, 255, cv2.THRESH_BINARY)[1]\n",
        "        kernel = np.ones((4,4),np.uint8)\n",
        "        # Perform an erosion followed by dilation opening to remove noise\n",
        "        opening = cv2.morphologyEx(thresh, cv2.MORPH_OPEN, kernel)\n",
        "        distance = ndi.distance_transform_edt(opening)\n",
        "        local_maxi = peak_local_max(distance, indices=False, footprint=np.ones((10, 10)),\n",
        "                                labels=thresh)\n",
        "        markers, _ = ndi.label(local_maxi)\n",
        "        ws_labels = watershed(-distance, markers, mask=thresh)\n",
        "        \n",
        "        #TODO: cite/recode following\n",
        "        # loop over the unique labels returned by the Watershed\n",
        "        # algorithm\n",
        "        for label in np.unique(ws_labels):\n",
        "            # if the label is zero, we are examining the 'background'\n",
        "            # so simply ignore it\n",
        "            if label == 0:\n",
        "                continue\n",
        "\n",
        "            # otherwise, allocate memory for the label region and draw\n",
        "            # it on the mask\n",
        "            mask = np.zeros(image.shape, dtype=\"uint8\")\n",
        "            mask[ws_labels == label] = 255\n",
        "\n",
        "            # detect contours in the mask and grab the largest one\n",
        "            cnts = cv2.findContours(mask.copy(), cv2.RETR_EXTERNAL,\n",
        "                cv2.CHAIN_APPROX_SIMPLE)\n",
        "            cnts = imutils.grab_contours(cnts)\n",
        "            c = max(cnts, key=cv2.contourArea)\n",
        "\n",
        "            # draw a rectangle enclosing the object\n",
        "            x,y,w,h = cv2.boundingRect(c)\n",
        "            cv2.rectangle(image,(x,y),(x+w,y+h),(0,255,0),2)\n",
        "            cv2.putText(image, \"#{}\".format(label), (int(x) - 10, int(y)),\n",
        "                cv2.FONT_HERSHEY_SIMPLEX, 0.6, (0, 0, 255), 2)\n",
        "        \n",
        "        plt.imshow(image, cmap='gray')\n",
        "        plt.show()\n",
        "        plt.imshow(opening, cmap='gray')\n",
        "        plt.show()\n",
        "        plt.imshow(ws_labels, cmap='gray')\n",
        "        plt.show()\n",
        "    return"
      ],
      "execution_count": null,
      "outputs": []
    },
    {
      "cell_type": "code",
      "metadata": {
        "colab_type": "code",
        "id": "1KPSxTV8JyZR",
        "tags": [],
        "colab": {
          "base_uri": "https://localhost:8080/",
          "height": 434
        },
        "outputId": "d4df7e1b-6c78-4af3-e1fc-da02e9254edf"
      },
      "source": [
        "def main():\n",
        "    select = int(input(\"Choose a dataset.\\n1) DIC-C2DH-HeLa\\n2) Fluo-N2DL-HeLa\\n3) PhC-C2DL-PSC\\n> \"))\n",
        "\n",
        "    if select == 1:\n",
        "        detect_DIC()\n",
        "    elif select == 2:\n",
        "        detect_Fluo()\n",
        "    elif select == 3:\n",
        "        detect_PhC()\n",
        "    else:\n",
        "        print(\"Invalid input.\")\n",
        "\n",
        "if __name__ == '__main__':\n",
        "    main()"
      ],
      "execution_count": null,
      "outputs": [
        {
          "output_type": "stream",
          "text": [
            "Choose a dataset.\n",
            "1) DIC-C2DH-HeLa\n",
            "2) Fluo-N2DL-HeLa\n",
            "3) PhC-C2DL-PSC\n",
            "> 1\n"
          ],
          "name": "stdout"
        },
        {
          "output_type": "error",
          "ename": "FileNotFoundError",
          "evalue": "ignored",
          "traceback": [
            "\u001b[0;31m---------------------------------------------------------------------------\u001b[0m",
            "\u001b[0;31mFileNotFoundError\u001b[0m                         Traceback (most recent call last)",
            "\u001b[0;32m<ipython-input-13-8dafb536f42a>\u001b[0m in \u001b[0;36m<module>\u001b[0;34m()\u001b[0m\n\u001b[1;32m     12\u001b[0m \u001b[0;34m\u001b[0m\u001b[0m\n\u001b[1;32m     13\u001b[0m \u001b[0;32mif\u001b[0m \u001b[0m__name__\u001b[0m \u001b[0;34m==\u001b[0m \u001b[0;34m'__main__'\u001b[0m\u001b[0;34m:\u001b[0m\u001b[0;34m\u001b[0m\u001b[0;34m\u001b[0m\u001b[0m\n\u001b[0;32m---> 14\u001b[0;31m     \u001b[0mmain\u001b[0m\u001b[0;34m(\u001b[0m\u001b[0;34m)\u001b[0m\u001b[0;34m\u001b[0m\u001b[0;34m\u001b[0m\u001b[0m\n\u001b[0m",
            "\u001b[0;32m<ipython-input-13-8dafb536f42a>\u001b[0m in \u001b[0;36mmain\u001b[0;34m()\u001b[0m\n\u001b[1;32m      3\u001b[0m \u001b[0;34m\u001b[0m\u001b[0m\n\u001b[1;32m      4\u001b[0m     \u001b[0;32mif\u001b[0m \u001b[0mselect\u001b[0m \u001b[0;34m==\u001b[0m \u001b[0;36m1\u001b[0m\u001b[0;34m:\u001b[0m\u001b[0;34m\u001b[0m\u001b[0;34m\u001b[0m\u001b[0m\n\u001b[0;32m----> 5\u001b[0;31m         \u001b[0mdetect_DIC\u001b[0m\u001b[0;34m(\u001b[0m\u001b[0;34m)\u001b[0m\u001b[0;34m\u001b[0m\u001b[0;34m\u001b[0m\u001b[0m\n\u001b[0m\u001b[1;32m      6\u001b[0m     \u001b[0;32melif\u001b[0m \u001b[0mselect\u001b[0m \u001b[0;34m==\u001b[0m \u001b[0;36m2\u001b[0m\u001b[0;34m:\u001b[0m\u001b[0;34m\u001b[0m\u001b[0;34m\u001b[0m\u001b[0m\n\u001b[1;32m      7\u001b[0m         \u001b[0mdetect_Fluo\u001b[0m\u001b[0;34m(\u001b[0m\u001b[0;34m)\u001b[0m\u001b[0;34m\u001b[0m\u001b[0;34m\u001b[0m\u001b[0m\n",
            "\u001b[0;32m<ipython-input-11-997d8abb2e54>\u001b[0m in \u001b[0;36mdetect_DIC\u001b[0;34m()\u001b[0m\n\u001b[1;32m      1\u001b[0m \u001b[0;32mdef\u001b[0m \u001b[0mdetect_DIC\u001b[0m\u001b[0;34m(\u001b[0m\u001b[0;34m)\u001b[0m\u001b[0;34m:\u001b[0m\u001b[0;34m\u001b[0m\u001b[0;34m\u001b[0m\u001b[0m\n\u001b[0;32m----> 2\u001b[0;31m     \u001b[0;32mfor\u001b[0m \u001b[0mfilename\u001b[0m \u001b[0;32min\u001b[0m \u001b[0mfi_list\u001b[0m\u001b[0;34m(\u001b[0m\u001b[0;34m'DIC-C2DH-HeLa/Sequence 3'\u001b[0m\u001b[0;34m)\u001b[0m\u001b[0;34m:\u001b[0m\u001b[0;34m\u001b[0m\u001b[0;34m\u001b[0m\u001b[0m\n\u001b[0m\u001b[1;32m      3\u001b[0m         \u001b[0;32mif\u001b[0m \u001b[0;32mnot\u001b[0m \u001b[0mfilename\u001b[0m\u001b[0;34m.\u001b[0m\u001b[0mendswith\u001b[0m\u001b[0;34m(\u001b[0m\u001b[0;34m\".tif\"\u001b[0m\u001b[0;34m)\u001b[0m\u001b[0;34m:\u001b[0m\u001b[0;34m\u001b[0m\u001b[0;34m\u001b[0m\u001b[0m\n\u001b[1;32m      4\u001b[0m             \u001b[0;32mcontinue\u001b[0m\u001b[0;34m\u001b[0m\u001b[0;34m\u001b[0m\u001b[0m\n\u001b[1;32m      5\u001b[0m         \u001b[0mprint\u001b[0m\u001b[0;34m(\u001b[0m\u001b[0mfilename\u001b[0m\u001b[0;34m)\u001b[0m\u001b[0;34m\u001b[0m\u001b[0;34m\u001b[0m\u001b[0m\n",
            "\u001b[0;32m/content/drive/My Drive/Colab Notebooks/processing.py\u001b[0m in \u001b[0;36mfi_list\u001b[0;34m(path)\u001b[0m\n\u001b[1;32m     19\u001b[0m     \u001b[0mReturn\u001b[0m \u001b[0ma\u001b[0m \u001b[0msorted\u001b[0m \u001b[0mlist\u001b[0m \u001b[0mof\u001b[0m \u001b[0mfilenames\u001b[0m \u001b[0;32min\u001b[0m \u001b[0ma\u001b[0m \u001b[0mgiven\u001b[0m \u001b[0mpath\u001b[0m\u001b[0;34m\u001b[0m\u001b[0;34m\u001b[0m\u001b[0m\n\u001b[1;32m     20\u001b[0m     \"\"\"\n\u001b[0;32m---> 21\u001b[0;31m     \u001b[0;32mreturn\u001b[0m \u001b[0msorted\u001b[0m\u001b[0;34m(\u001b[0m\u001b[0;34m[\u001b[0m\u001b[0mos\u001b[0m\u001b[0;34m.\u001b[0m\u001b[0mpath\u001b[0m\u001b[0;34m.\u001b[0m\u001b[0mjoin\u001b[0m\u001b[0;34m(\u001b[0m\u001b[0mpath\u001b[0m\u001b[0;34m,\u001b[0m \u001b[0mf\u001b[0m\u001b[0;34m)\u001b[0m \u001b[0;32mfor\u001b[0m \u001b[0mf\u001b[0m \u001b[0;32min\u001b[0m \u001b[0mos\u001b[0m\u001b[0;34m.\u001b[0m\u001b[0mlistdir\u001b[0m\u001b[0;34m(\u001b[0m\u001b[0mpath\u001b[0m\u001b[0;34m)\u001b[0m\u001b[0;34m]\u001b[0m\u001b[0;34m)\u001b[0m\u001b[0;34m\u001b[0m\u001b[0;34m\u001b[0m\u001b[0m\n\u001b[0m\u001b[1;32m     22\u001b[0m \u001b[0;34m\u001b[0m\u001b[0m\n\u001b[1;32m     23\u001b[0m \u001b[0;32mdef\u001b[0m \u001b[0mpimg\u001b[0m\u001b[0;34m(\u001b[0m\u001b[0mimg\u001b[0m\u001b[0;34m,\u001b[0m \u001b[0mlabel\u001b[0m\u001b[0;34m=\u001b[0m\u001b[0;34m\"\"\u001b[0m\u001b[0;34m)\u001b[0m\u001b[0;34m:\u001b[0m\u001b[0;34m\u001b[0m\u001b[0;34m\u001b[0m\u001b[0m\n",
            "\u001b[0;31mFileNotFoundError\u001b[0m: [Errno 2] No such file or directory: 'DIC-C2DH-HeLa/Sequence 3'"
          ]
        }
      ]
    },
    {
      "cell_type": "code",
      "metadata": {
        "id": "pd2yoG6p4ixl",
        "colab_type": "code",
        "colab": {}
      },
      "source": [
        ""
      ],
      "execution_count": null,
      "outputs": []
    }
  ]
}