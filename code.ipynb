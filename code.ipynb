{
 "cells": [
  {
   "cell_type": "code",
   "execution_count": null,
   "metadata": {
    "colab": {},
    "colab_type": "code",
    "id": "uWhdm8qGjDGh"
   },
   "outputs": [],
   "source": [
    "# COMP9517 Computer Vision Project - Group C\n",
    "# Connor Baginski (z5207788)\n",
    "# Bhumika Singhal (z5234799)\n",
    "# Rishav Guha (z5294757)\n",
    "# Amel Johny (z5294308)"
   ]
  }
 ],
 "metadata": {
  "colab": {
   "collapsed_sections": [],
   "name": "Vision Project - Group C.ipynb",
   "provenance": [],
   "toc_visible": true
  },
  "kernelspec": {
   "display_name": "Python 3",
   "language": "python",
   "name": "python3"
  },
  "language_info": {
   "name": ""
  }
 },
 "nbformat": 4,
 "nbformat_minor": 4
}
