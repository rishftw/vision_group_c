{
 "cells": [
  {
   "cell_type": "code",
   "execution_count": 172,
   "metadata": {},
   "outputs": [],
   "source": [
    "import matplotlib.pyplot as plt\n",
    "from PIL import Image\n",
    "import numpy as np\n",
    "import cv2\n",
    "import os\n",
    "import imutils\n",
    "\n",
    "from scipy import ndimage as ndi\n",
    "from scipy.spatial.distance import euclidean\n",
    "from skimage.morphology import watershed, disk\n",
    "from skimage.feature import peak_local_max\n"
   ]
  },
  {
   "cell_type": "code",
   "execution_count": 194,
   "metadata": {},
   "outputs": [],
   "source": [
    "def fi_list(path):\n",
    "    \"\"\"\n",
    "    Return a sorted list of filenames in a given path\n",
    "    \"\"\"\n",
    "    return sorted([os.path.join(path, f) for f in os.listdir(path)])\n",
    "\n",
    "def pimg(img, label=\"\"):\n",
    "    print(label, end=\"\")\n",
    "    plt.imshow(img)\n",
    "    plt.show()\n",
    "\n",
    "def highlight_labels(img, labels, value=255):\n",
    "    image = img.copy()\n",
    "    \n",
    "    for label in labels:\n",
    "        np.putmask(image, image == label, np.full(image.shape, value).astype('uint16'))\n",
    "        image = image.astype('uint16')\n",
    "        np.putmask(image, image != label, np.zeros(image.shape).astype('uint16'))\n",
    "                \n",
    "    return image\n",
    "\n",
    "def masks_to_binary(img):\n",
    "    image = img.copy()\n",
    "    \n",
    "    np.putmask(image, image != 0, np.ones(image.shape).astype('uint16'))\n",
    "    image = image.astype('uint16')\n",
    "    np.putmask(image, image == 0, np.zeros(image.shape).astype('uint16'))\n",
    "    \n",
    "    return image\n",
    "\n",
    "def equalize_clahe(img):\n",
    "    image = img.copy()\n",
    "    clahe = cv2.createCLAHE(clipLimit=2.0, tileGridSize=(8,8))\n",
    "    return clahe.apply(image)\n",
    "\n",
    "def disk_erode(img, radius=24, iters=1):\n",
    "    image = img.copy()\n",
    "    kern_disk = disk(radius)\n",
    "    eroded = cv2.erode(image, kern_disk, iterations=iters)\n",
    "    \n",
    "    return eroded\n",
    "\n",
    "def get_min_dist_marker(cell_mask, x, y, label):\n",
    "    image = cell_mask.copy()\n",
    "    \n",
    "    min_dist = 9999999999\n",
    "    \n",
    "    #coords is list of coordinates of pixels that have their values as param:label\n",
    "    coords = np.argwhere(image == label)\n",
    "    \n",
    "    dists = np.sqrt((coords[:,0] - x) ** 2 + (coords[:,1] - y) ** 2)\n",
    "    \n",
    "    min_dist_index = np.argmin(dists)\n",
    "                   \n",
    "    return (dists[min_dist_index])\n",
    "\n",
    "def get_max_dt_sq(img, label):\n",
    "# from equation (1) in https://is.muni.cz/www/svoboda/ISBI-final.pdf\n",
    "    #constants\n",
    "    A = 0.004\n",
    "    B = 40\n",
    "        \n",
    "    image = img.copy()\n",
    "    image = image.astype('uint16')\n",
    "\n",
    "    high_mask = highlight_labels(image, [ label ], value=label)\n",
    "\n",
    "    inv = np.logical_not(high_mask)\n",
    "    inv = inv.astype('uint8')\n",
    "\n",
    "    dt = cv2.distanceTransform(inv, distanceType=cv2.DIST_L2, maskSize=cv2.DIST_MASK_PRECISE)\n",
    "\n",
    "    max_dt_sq = (np.maximum( B-dt , 0 ))**2\n",
    "    \n",
    "    return max_dt_sq"
   ]
  },
  {
   "cell_type": "code",
   "execution_count": 195,
   "metadata": {},
   "outputs": [],
   "source": [
    "def get_origs(path=\"test_dir/orig\"):  #\"DIC-2/02\"):\n",
    "    origs = []\n",
    "    \n",
    "    for filename in fi_list(path):\n",
    "        if not filename.endswith(\".tif\"):\n",
    "            continue\n",
    "        \n",
    "        image = cv2.imread(filename, cv2.IMREAD_UNCHANGED)\n",
    "        \n",
    "        origs.append(image)\n",
    "        \n",
    "    return np.array(origs)\n",
    "\n",
    "def get_clahes(origs):\n",
    "    clahes = []\n",
    "    \n",
    "    for orig in origs:\n",
    "        clahed = equalize_clahe(orig)\n",
    "        clahes.append(clahed)\n",
    "    \n",
    "    return np.array(clahes)\n",
    "\n",
    "def get_cell_masks(path=\"test_dir/st\"):    #\"DIC-2/02_ST/SEG\"):\n",
    "    cell_masks = []\n",
    "    \n",
    "    #debug\n",
    "    count = 0\n",
    "    for filename in fi_list(path):\n",
    "        if not filename.endswith(\".tif\"):\n",
    "            continue\n",
    "        \n",
    "        image = cv2.imread(filename, cv2.IMREAD_UNCHANGED)\n",
    "        \n",
    "        cell_masks.append(image)\n",
    "        \n",
    "        #debug\n",
    "        count+=1\n",
    "        if count > 5:\n",
    "            break\n",
    "        \n",
    "    return np.array(cell_masks)\n",
    "\n",
    "def get_binary_cell_masks(cell_masks):\n",
    "    bin_cell_masks = []\n",
    "    \n",
    "    for cell_mask in cell_masks:\n",
    "        bin_c_m = masks_to_binary(cell_mask)\n",
    "        bin_cell_masks.append(bin_c_m)\n",
    "    \n",
    "    return np.array(bin_cell_masks)\n",
    "\n",
    "# requires NON_BINARY cell masks\n",
    "def get_cell_markers(cell_masks, erosion_radius=24):    \n",
    "    cell_markers = []\n",
    "    \n",
    "    for mask in cell_masks:\n",
    "        # array of individual images binarized by label and eroded\n",
    "        eroded = np.zeros(mask.shape)\n",
    "        \n",
    "        labels = list(np.unique(mask))\n",
    "        \n",
    "        #drop background\n",
    "        labels.remove(0)\n",
    "        \n",
    "        for label in labels:\n",
    "            # extract each labeled cell mask separately\n",
    "            high_mask = highlight_labels(mask, [label], value=label)\n",
    "            \n",
    "            #erode it with a disk structuring element\n",
    "            temp_erod = disk_erode(high_mask, erosion_radius)\n",
    "            \n",
    "            #add this label mask to the final combined mask\n",
    "            eroded = np.add(eroded, temp_erod)\n",
    "            \n",
    "        cell_markers.append(eroded)\n",
    "        \n",
    "    return np.array(cell_markers)\n",
    "\n",
    "# requires NON_BINARY cell masks\n",
    "def get_binary_cell_markers(cell_masks, erosion_radius=24):\n",
    "    cell_markers = []\n",
    "    \n",
    "    for mask in cell_masks:\n",
    "        # array of individual images binarized by label and eroded\n",
    "        eroded = np.zeros(mask.shape)\n",
    "        \n",
    "        labels = list(np.unique(mask))\n",
    "        \n",
    "        #drop background\n",
    "        labels.remove(0)\n",
    "        \n",
    "        for label in labels:\n",
    "            # extract each labeled cell mask separately\n",
    "            high_mask = highlight_labels(mask, [label], value=label)\n",
    "            \n",
    "            #erode it with a disk structuring element\n",
    "            temp_erod = disk_erode(high_mask, erosion_radius)\n",
    "            \n",
    "            #add this label mask to the final combined mask\n",
    "            eroded = np.add(eroded, temp_erod)\n",
    "            \n",
    "        cell_markers.append(masks_to_binary(eroded))\n",
    "        \n",
    "    return np.array(cell_markers)\n",
    "\n",
    "#TODO: algorithm is implemented but not tested. Currently takes too long to run for even one picture\n",
    "#      Optimize \n",
    "def get_weight_maps(cell_markers, subtract_marker_flag=False):\n",
    "    #constants\n",
    "    A = 0.004\n",
    "    B = 40\n",
    "\n",
    "    weight_maps = []\n",
    "    \n",
    "    for cell_marker in cell_markers:\n",
    "        #debug\n",
    "        count = 0\n",
    "        \n",
    "        labels = list(np.unique(cell_marker))\n",
    "        labels.remove(0)\n",
    "        \n",
    "        max_dt_sq = np.zeros(cell_marker.shape)\n",
    "        \n",
    "        for label in labels:\n",
    "            max_dt_sq = np.add(max_dt_sq, get_max_dt_sq(cell_marker, label))\n",
    "        \n",
    "        pix_weight = 1 + (A * max_dt_sq)\n",
    "        \n",
    "        # try with flag = True if default doesn't work. The equation probably doesnt need the following\n",
    "        # but the sample image in paper https://is.muni.cz/www/svoboda/ISBI-final.pdf seems to show\n",
    "        # subtracted markers.\n",
    "        if subtract_marker_flag == True:\n",
    "            inv_bin_cell_marker = np.logical_not(masks_to_binary(cell_marker)).astype('uint16')\n",
    "            pix_weight = np.multiply(pix_weight, inv_bin_cell_marker)\n",
    "        \n",
    "        weight_maps.append(pix_weight)\n",
    "        \n",
    "    return np.array(weight_maps)\n"
   ]
  },
  {
   "cell_type": "code",
   "execution_count": 196,
   "metadata": {},
   "outputs": [],
   "source": [
    "def get_pred_masks():\n",
    "    return get_binary_cell_masks(get_cell_masks())\n",
    "\n",
    "def get_pred_markers(pred_masks, e_r):\n",
    "    return get_binary_cell_markers(get_cell_masks(), e_r)"
   ]
  },
  {
   "cell_type": "code",
   "execution_count": 233,
   "metadata": {},
   "outputs": [],
   "source": [
    "def threshold_binary_image(img, thresh=0.5):\n",
    "    image = img.copy()\n",
    "    \n",
    "    print(np.unique(image*1.0 >= thresh))\n",
    "    \n",
    "#     np.putmask(image, image*1.0 >= thresh, np.ones(image.shape).astype('uint8'))\n",
    "#     image = image.astype('uint8')\n",
    "#     np.putmask(image, image*1.0 < thresh, np.zeros(image.shape).astype('uint8'))\n",
    "    \n",
    "    return (image*1.0 >= thresh).astype('uint8')"
   ]
  },
  {
   "cell_type": "code",
   "execution_count": 235,
   "metadata": {},
   "outputs": [
    {
     "name": "stdout",
     "output_type": "stream",
     "text": [
      "[False  True]\n",
      "[False]\n"
     ]
    },
    {
     "data": {
      "image/png": "[encoded data removed]",
      "text/plain": [
       "<Figure size 432x288 with 1 Axes>"
      ]
     },
     "metadata": {
      "needs_background": "light"
     },
     "output_type": "display_data"
    },
    {
     "data": {
      "image/png": "[encoded data removed]",
      "text/plain": [
       "<Figure size 432x288 with 1 Axes>"
      ]
     },
     "metadata": {
      "needs_background": "light"
     },
     "output_type": "display_data"
    },
    {
     "data": {
      "image/png": "[encoded data removed]",
      "text/plain": [
       "<Figure size 432x288 with 1 Axes>"
      ]
     },
     "metadata": {
      "needs_background": "light"
     },
     "output_type": "display_data"
    },
    {
     "data": {
      "image/png": "[encoded data removed]",
      "text/plain": [
       "<Figure size 432x288 with 1 Axes>"
      ]
     },
     "metadata": {
      "needs_background": "light"
     },
     "output_type": "display_data"
    },
    {
     "data": {
      "image/png": "[encoded data removed]",
      "text/plain": [
       "<Figure size 432x288 with 1 Axes>"
      ]
     },
     "metadata": {
      "needs_background": "light"
     },
     "output_type": "display_data"
    },
    {
     "data": {
      "image/png": "[encoded data removed]",
      "text/plain": [
       "<Figure size 432x288 with 1 Axes>"
      ]
     },
     "metadata": {
      "needs_background": "light"
     },
     "output_type": "display_data"
    },
    {
     "data": {
      "image/png": "[encoded data removed]",
      "text/plain": [
       "<Figure size 432x288 with 1 Axes>"
      ]
     },
     "metadata": {
      "needs_background": "light"
     },
     "output_type": "display_data"
    }
   ],
   "source": [
    "ELEMENT_NO = 2\n",
    "# 0 -> Fluo, 1-> DIC, 2 -> PhC\n",
    "\n",
    "# cell_masks = get_cell_masks()\n",
    "# origs = get_origs()\n",
    "# cell_markers = get_cell_markers(cell_masks, 24)\n",
    "# weight_maps = get_weight_maps(cell_markers, False)\n",
    "\n",
    "\n",
    "\n",
    "pred_masks = get_pred_masks()\n",
    "pred_markers = get_pred_markers(pred_masks, 24)\n",
    "\n",
    "#constants\n",
    "OPEN_RADIUS = 1\n",
    "# = 12 for 1, =\n",
    "\n",
    "# mask_thresh = cv2.threshold(pred_masks[ELEMENT_NO], 129, 255, cv2.THRESH_BINARY)[1]\n",
    "mask_thresh = threshold_binary_image(pred_masks[ELEMENT_NO], 0.5)\n",
    "# marker_thresh_unopen = cv2.threshold(pred_markers[ELEMENT_NO], 129, 255, cv2.THRESH_BINARY)[1]\n",
    "marker_thresh_unopen = threshold_binary_image(pred_markers[ELEMENT_NO], 0.5)\n",
    "\n",
    "# marker_thresh = cv2.morphologyEx(marker_thresh_unopen, cv2.MORPH_OPEN, disk(OPEN_RADIUS))\n",
    "marker_thresh = marker_thresh_unopen\n",
    "\n",
    "distance = ndi.distance_transform_edt(marker_thresh)\n",
    "\n",
    "# local_maxi = peak_local_max(pred_markers, indices=False, footprint=np.ones((10, 10)),\n",
    "#                         labels=thresh)\n",
    "# markers, _ = ndi.label(local_maxi)\n",
    "markers, _ = ndi.label(marker_thresh)\n",
    "\n",
    "ws_labels = watershed(-distance, markers, mask=mask_thresh)\n",
    "\n",
    "\n",
    "# a = pred_masks[ELEMENT_NO]\n",
    "# b = pred_markers[ELEMENT_NO]\n",
    "a = mask_thresh\n",
    "b = marker_thresh_unopen\n",
    "c = marker_thresh\n",
    "d = distance\n",
    "e = markers\n",
    "f = ws_labels\n",
    "\n",
    "h = pred_markers[ELEMENT_NO]\n",
    "pimg(a)\n",
    "pimg(b)\n",
    "pimg(c)\n",
    "pimg(d)\n",
    "pimg(e)\n",
    "pimg(f)\n",
    "\n",
    "pimg(h)"
   ]
  },
  {
   "cell_type": "code",
   "execution_count": 178,
   "metadata": {},
   "outputs": [],
   "source": [
    "# cell_masks = get_cell_masks()\n",
    "# origs = get_origs()\n",
    "# cell_markers = get_cell_markers(cell_masks, 24)\n",
    "# weight_maps = get_weight_maps(cell_markers, False)\n",
    "\n",
    "# a = origs[1]\n",
    "# b = get_clahes(origs)[1]\n",
    "# c = cell_masks[1]\n",
    "# d = cell_markers[1]\n",
    "\n",
    "# h = weight_maps[1]\n",
    "\n",
    "\n",
    "# pimg(a)\n",
    "\n",
    "# pimg(b)\n",
    "\n",
    "# pimg(c)\n",
    "\n",
    "# pimg(d)\n",
    "\n",
    "# pimg(h)"
   ]
  },
  {
   "cell_type": "code",
   "execution_count": 179,
   "metadata": {},
   "outputs": [],
   "source": [
    "# cell_masks = get_cell_masks()\n",
    "# origs = get_origs()\n",
    "# cell_markers = get_cell_markers(cell_masks, 8)\n",
    "# weight_maps = get_weight_maps(cell_markers, False)\n",
    "\n",
    "# a = origs[0]\n",
    "# b = get_clahes(origs)[0]\n",
    "# c = cell_masks[0]\n",
    "# d = cell_markers[0]\n",
    "\n",
    "# h = weight_maps[0]\n",
    "\n",
    "\n",
    "# pimg(a)\n",
    "\n",
    "# pimg(b)\n",
    "\n",
    "# pimg(c)\n",
    "\n",
    "# pimg(d)\n",
    "\n",
    "# pimg(h)"
   ]
  },
  {
   "cell_type": "code",
   "execution_count": 180,
   "metadata": {},
   "outputs": [],
   "source": [
    "# cell_masks = get_cell_masks()\n",
    "# origs = get_origs()\n",
    "# cell_markers = get_cell_markers(cell_masks, 2)\n",
    "# weight_maps = get_weight_maps(cell_markers, False)\n",
    "\n",
    "# a = origs[2]\n",
    "# b = get_clahes(origs)[2]\n",
    "# c = cell_masks[2]\n",
    "# d = cell_markers[2]\n",
    "\n",
    "# h = weight_maps[2]\n",
    "\n",
    "\n",
    "# pimg(a)\n",
    "\n",
    "# pimg(b)\n",
    "\n",
    "# pimg(c)\n",
    "\n",
    "# pimg(d)\n",
    "\n",
    "# pimg(h)"
   ]
  },
  {
   "cell_type": "code",
   "execution_count": null,
   "metadata": {},
   "outputs": [],
   "source": []
  }
 ],
 "metadata": {
  "kernelspec": {
   "display_name": "compvis",
   "language": "python",
   "name": "compvis"
  },
  "language_info": {
   "codemirror_mode": {
    "name": "ipython",
    "version": 3
   },
   "file_extension": ".py",
   "mimetype": "text/x-python",
   "name": "python",
   "nbconvert_exporter": "python",
   "pygments_lexer": "ipython3",
   "version": "3.8.3"
  }
 },
 "nbformat": 4,
 "nbformat_minor": 4
}
