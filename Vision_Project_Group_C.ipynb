{
  "nbformat": 4,
  "nbformat_minor": 0,
  "metadata": {
    "colab": {
      "name": "Vision Project - Group C.ipynb",
      "provenance": [],
      "collapsed_sections": [],
      "toc_visible": true
    },
    "kernelspec": {
      "name": "python3",
      "display_name": "Python 3"
    }
  },
  "cells": [
    {
      "cell_type": "code",
      "metadata": {
        "id": "uWhdm8qGjDGh",
        "colab_type": "code",
        "colab": {}
      },
      "source": [
        "# COMP9517 Computer Vision Project - Group C\n",
        "# Connor Baginski (z5207788)\n",
        "# Bhumika Singhal (z5234799)\n",
        "# Rishav Guha (z5294757)\n",
        "# Amel Johny (z5294308)"
      ],
      "execution_count": null,
      "outputs": []
    }
  ]
}